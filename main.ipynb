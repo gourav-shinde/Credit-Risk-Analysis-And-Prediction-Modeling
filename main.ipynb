{
 "cells": [
  {
   "cell_type": "markdown",
   "metadata": {},
   "source": [
    "IMPORT MODULES"
   ]
  },
  {
   "cell_type": "code",
   "execution_count": 8,
   "metadata": {},
   "outputs": [],
   "source": [
    "import numpy as np # linear algebra\n",
    "import pandas as pd # data processing, CSV file I/O (e.g. pd.read_csv)\n",
    "import matplotlib.pyplot as plt\n",
    "import seaborn as sns\n",
    "\n",
    "from sklearn.model_selection import train_test_split\n",
    "from sklearn.preprocessing import LabelEncoder\n",
    "from sklearn import metrics\n",
    "from sklearn.metrics import roc_auc_score\n",
    "from sklearn.metrics import roc_curve,auc\n",
    "from sklearn.metrics import f1_score\n",
    "from sklearn.tree import DecisionTreeClassifier\n",
    "from sklearn.tree import plot_tree\n",
    "from sklearn.metrics import confusion_matrix\n",
    "from sklearn.metrics import plot_confusion_matrix\n",
    "from sklearn.metrics import precision_recall_curve\n",
    "from sklearn.metrics import recall_score\n",
    "\n",
    "pd.set_option('display.max_rows', 999)\n",
    "pd.set_option('display.max_columns', 999)\n",
    "%matplotlib inline\n",
    "\n"
   ]
  },
  {
   "cell_type": "markdown",
   "metadata": {},
   "source": [
    "Checking for Relative Paths"
   ]
  },
  {
   "cell_type": "code",
   "execution_count": 9,
   "metadata": {},
   "outputs": [
    {
     "name": "stdout",
     "output_type": "stream",
     "text": [
      "dataset\\application_test.csv\n",
      "dataset\\application_train.csv\n",
      "dataset\\bureau.csv\n",
      "dataset\\bureau_balance.csv\n",
      "dataset\\credit_card_balance.csv\n",
      "dataset\\HomeCredit_columns_description.csv\n",
      "dataset\\installments_payments.csv\n",
      "dataset\\POS_CASH_balance.csv\n",
      "dataset\\previous_application.csv\n",
      "dataset\\sample_submission.csv\n"
     ]
    }
   ],
   "source": [
    "# checking for paths\n",
    "import os\n",
    "for dirname, _, filenames in os.walk('dataset'):\n",
    "    for filename in filenames:\n",
    "        print(os.path.join(dirname, filename))\n"
   ]
  },
  {
   "cell_type": "markdown",
   "metadata": {},
   "source": [
    "Importing CSV files"
   ]
  },
  {
   "cell_type": "code",
   "execution_count": 11,
   "metadata": {},
   "outputs": [
    {
     "name": "stdout",
     "output_type": "stream",
     "text": [
      "Testing Data: 48744 rows and 121 cols\n",
      "Training Data: 307511 rows and 122 cols\n",
      "Credit Card Balance: 3840312 rows and 23 cols\n",
      "Installments Payments: 13605401 rows and 8 cols\n"
     ]
    }
   ],
   "source": [
    "application_test=pd.read_csv(\"dataset/application_test.csv\")\n",
    "print(\"Testing Data: %s rows and %s cols\"%application_test.shape)\n",
    "application_train=pd.read_csv(\"dataset/application_train.csv\")\n",
    "print(\"Training Data: %s rows and %s cols\"%application_train.shape)\n",
    "credit_balance = pd.read_csv('dataset/credit_card_balance.csv')\n",
    "print(\"Credit Card Balance: %s rows and %s cols\"%credit_balance.shape)\n",
    "installments_payments = pd.read_csv('dataset/installments_payments.csv')\n",
    "print(\"Installments Payments: %s rows and %s cols\"%installments_payments.shape)"
   ]
  },
  {
   "cell_type": "markdown",
   "metadata": {},
   "source": [
    "Exporing Application Testing Data"
   ]
  }
 ],
 "metadata": {
  "interpreter": {
   "hash": "2c194a805c5e170e406deb8ac64b434ea959f54ad4ad2a5f8a1381e4b3943180"
  },
  "kernelspec": {
   "display_name": "Python 3.9.8 64-bit (windows store)",
   "language": "python",
   "name": "python3"
  },
  "language_info": {
   "codemirror_mode": {
    "name": "ipython",
    "version": 3
   },
   "file_extension": ".py",
   "mimetype": "text/x-python",
   "name": "python",
   "nbconvert_exporter": "python",
   "pygments_lexer": "ipython3",
   "version": "3.9.10"
  },
  "orig_nbformat": 4
 },
 "nbformat": 4,
 "nbformat_minor": 2
}
