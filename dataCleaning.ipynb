{
 "cells": [
  {
   "cell_type": "code",
   "execution_count": 82,
   "metadata": {},
   "outputs": [],
   "source": [
    "import numpy as np # linear algebra\n",
    "import pandas as pd # data processing, CSV file I/O (e.g. pd.read_csv)\n",
    "import matplotlib.pyplot as plt\n",
    "import seaborn as sns\n",
    "import xgboost\n",
    "\n",
    "from sklearn.model_selection import train_test_split\n",
    "from sklearn.preprocessing import LabelEncoder\n",
    "from sklearn.preprocessing import MinMaxScaler\n",
    "from sklearn import metrics\n",
    "from sklearn.metrics import roc_auc_score\n",
    "from sklearn.metrics import roc_curve,auc\n",
    "from sklearn.metrics import f1_score\n",
    "from sklearn.tree import DecisionTreeClassifier\n",
    "from sklearn.tree import plot_tree\n",
    "from sklearn.metrics import confusion_matrix\n",
    "from sklearn.metrics import plot_confusion_matrix\n",
    "from sklearn.metrics import precision_recall_curve\n",
    "from sklearn.metrics import recall_score\n",
    "from sklearn.impute import SimpleImputer\n",
    "from sklearn.experimental import enable_iterative_imputer\n",
    "from sklearn.impute import IterativeImputer\n",
    "\n",
    "from numpy import loadtxt\n",
    "from xgboost import XGBClassifier\n",
    "\n",
    "pd.set_option('display.max_rows', 999)\n",
    "pd.set_option('display.max_columns', 999)\n",
    "%matplotlib inline\n",
    "\n"
   ]
  },
  {
   "cell_type": "code",
   "execution_count": 83,
   "metadata": {},
   "outputs": [
    {
     "name": "stdout",
     "output_type": "stream",
     "text": [
      "dataset\\application_test.csv\n",
      "dataset\\application_train.csv\n",
      "dataset\\bureau.csv\n",
      "dataset\\bureau_balance.csv\n",
      "dataset\\credit_card_balance.csv\n",
      "dataset\\HomeCredit_columns_description.csv\n",
      "dataset\\installments_payments.csv\n",
      "dataset\\POS_CASH_balance.csv\n",
      "dataset\\previous_application.csv\n",
      "dataset\\sample_submission.csv\n"
     ]
    }
   ],
   "source": [
    "# checking for paths\n",
    "import os\n",
    "for dirname, _, filenames in os.walk('dataset'):\n",
    "    for filename in filenames:\n",
    "        print(os.path.join(dirname, filename))\n"
   ]
  },
  {
   "cell_type": "code",
   "execution_count": 84,
   "metadata": {},
   "outputs": [
    {
     "name": "stdout",
     "output_type": "stream",
     "text": [
      "Testing Data: 48744 rows and 121 cols\n",
      "Training Data: 307511 rows and 122 cols\n"
     ]
    }
   ],
   "source": [
    "application_test=pd.read_csv(\"dataset/application_test.csv\")\n",
    "print(\"Testing Data: %s rows and %s cols\"%application_test.shape)\n",
    "application_train=pd.read_csv(\"dataset/application_train.csv\")\n",
    "print(\"Training Data: %s rows and %s cols\"%application_train.shape)\n",
    "# credit_balance = pd.read_csv('dataset/credit_card_balance.csv')\n",
    "# print(\"Credit Card Balance: %s rows and %s cols\"%credit_balance.shape)\n",
    "# installments_payments = pd.read_csv('dataset/installments_payments.csv')\n",
    "# print(\"Installments Payments: %s rows and %s cols\"%installments_payments.shape)\n",
    "# bureau = pd.read_csv('dataset\\Bureau.csv')\n",
    "# print(\"Bureau: %s rows and %s cols\" %bureau.shape)\n",
    "# bureau_balance = pd.read_csv('dataset\\Bureau_balance.csv')\n",
    "# print(\"Bureau train = application_train.copy()Balance: %s rows and %s cols\" %bureau_balance.shape)\n",
    "# POS_CASH_balance = pd.read_csv('dataset\\POS_CASH_balance.csv')\n",
    "# print(\"POS CASH Balance: % s rows and %s cols\" % POS_CASH_balance.shape)\n",
    "# previous_application = pd.read_csv('dataset\\previous_application.csv')\n",
    "# print(\"Previous Application: % s rows and %s cols\" %previous_application.shape)\n",
    "# sample_submission = pd.read_csv('dataset\\sample_submission.csv')\n",
    "# print(\"Sample Submission: % s rows and %s cols\" %sample_submission.shape)"
   ]
  },
  {
   "cell_type": "code",
   "execution_count": 85,
   "metadata": {},
   "outputs": [
    {
     "name": "stdout",
     "output_type": "stream",
     "text": [
      "SK_ID_CURR                           0\n",
      "TARGET                               0\n",
      "NAME_CONTRACT_TYPE                   0\n",
      "CODE_GENDER                          0\n",
      "FLAG_OWN_CAR                         0\n",
      "FLAG_OWN_REALTY                      0\n",
      "CNT_CHILDREN                         0\n",
      "AMT_INCOME_TOTAL                     0\n",
      "AMT_CREDIT                           0\n",
      "AMT_ANNUITY                         12\n",
      "AMT_GOODS_PRICE                    278\n",
      "NAME_TYPE_SUITE                   1292\n",
      "NAME_INCOME_TYPE                     0\n",
      "NAME_EDUCATION_TYPE                  0\n",
      "NAME_FAMILY_STATUS                   0\n",
      "NAME_HOUSING_TYPE                    0\n",
      "REGION_POPULATION_RELATIVE           0\n",
      "DAYS_BIRTH                           0\n",
      "DAYS_EMPLOYED                        0\n",
      "DAYS_REGISTRATION                    0\n",
      "DAYS_ID_PUBLISH                      0\n",
      "OWN_CAR_AGE                     202929\n",
      "FLAG_MOBIL                           0\n",
      "FLAG_EMP_PHONE                       0\n",
      "FLAG_WORK_PHONE                      0\n",
      "FLAG_CONT_MOBILE                     0\n",
      "FLAG_PHONE                           0\n",
      "FLAG_EMAIL                           0\n",
      "OCCUPATION_TYPE                  96391\n",
      "CNT_FAM_MEMBERS                      2\n",
      "REGION_RATING_CLIENT                 0\n",
      "REGION_RATING_CLIENT_W_CITY          0\n",
      "WEEKDAY_APPR_PROCESS_START           0\n",
      "HOUR_APPR_PROCESS_START              0\n",
      "REG_REGION_NOT_LIVE_REGION           0\n",
      "REG_REGION_NOT_WORK_REGION           0\n",
      "LIVE_REGION_NOT_WORK_REGION          0\n",
      "REG_CITY_NOT_LIVE_CITY               0\n",
      "REG_CITY_NOT_WORK_CITY               0\n",
      "LIVE_CITY_NOT_WORK_CITY              0\n",
      "ORGANIZATION_TYPE                    0\n",
      "EXT_SOURCE_1                    173378\n",
      "EXT_SOURCE_2                       660\n",
      "EXT_SOURCE_3                     60965\n",
      "APARTMENTS_AVG                  156061\n",
      "BASEMENTAREA_AVG                179943\n",
      "YEARS_BEGINEXPLUATATION_AVG     150007\n",
      "YEARS_BUILD_AVG                 204488\n",
      "COMMONAREA_AVG                  214865\n",
      "ELEVATORS_AVG                   163891\n",
      "ENTRANCES_AVG                   154828\n",
      "FLOORSMAX_AVG                   153020\n",
      "FLOORSMIN_AVG                   208642\n",
      "LANDAREA_AVG                    182590\n",
      "LIVINGAPARTMENTS_AVG            210199\n",
      "LIVINGAREA_AVG                  154350\n",
      "NONLIVINGAPARTMENTS_AVG         213514\n",
      "NONLIVINGAREA_AVG               169682\n",
      "APARTMENTS_MODE                 156061\n",
      "BASEMENTAREA_MODE               179943\n",
      "YEARS_BEGINEXPLUATATION_MODE    150007\n",
      "YEARS_BUILD_MODE                204488\n",
      "COMMONAREA_MODE                 214865\n",
      "ELEVATORS_MODE                  163891\n",
      "ENTRANCES_MODE                  154828\n",
      "FLOORSMAX_MODE                  153020\n",
      "FLOORSMIN_MODE                  208642\n",
      "LANDAREA_MODE                   182590\n",
      "LIVINGAPARTMENTS_MODE           210199\n",
      "LIVINGAREA_MODE                 154350\n",
      "NONLIVINGAPARTMENTS_MODE        213514\n",
      "NONLIVINGAREA_MODE              169682\n",
      "APARTMENTS_MEDI                 156061\n",
      "BASEMENTAREA_MEDI               179943\n",
      "YEARS_BEGINEXPLUATATION_MEDI    150007\n",
      "YEARS_BUILD_MEDI                204488\n",
      "COMMONAREA_MEDI                 214865\n",
      "ELEVATORS_MEDI                  163891\n",
      "ENTRANCES_MEDI                  154828\n",
      "FLOORSMAX_MEDI                  153020\n",
      "FLOORSMIN_MEDI                  208642\n",
      "LANDAREA_MEDI                   182590\n",
      "LIVINGAPARTMENTS_MEDI           210199\n",
      "LIVINGAREA_MEDI                 154350\n",
      "NONLIVINGAPARTMENTS_MEDI        213514\n",
      "NONLIVINGAREA_MEDI              169682\n",
      "FONDKAPREMONT_MODE              210295\n",
      "HOUSETYPE_MODE                  154297\n",
      "TOTALAREA_MODE                  148431\n",
      "WALLSMATERIAL_MODE              156341\n",
      "EMERGENCYSTATE_MODE             145755\n",
      "OBS_30_CNT_SOCIAL_CIRCLE          1021\n",
      "DEF_30_CNT_SOCIAL_CIRCLE          1021\n",
      "OBS_60_CNT_SOCIAL_CIRCLE          1021\n",
      "DEF_60_CNT_SOCIAL_CIRCLE          1021\n",
      "DAYS_LAST_PHONE_CHANGE               1\n",
      "FLAG_DOCUMENT_2                      0\n",
      "FLAG_DOCUMENT_3                      0\n",
      "FLAG_DOCUMENT_4                      0\n",
      "FLAG_DOCUMENT_5                      0\n",
      "FLAG_DOCUMENT_6                      0\n",
      "FLAG_DOCUMENT_7                      0\n",
      "FLAG_DOCUMENT_8                      0\n",
      "FLAG_DOCUMENT_9                      0\n",
      "FLAG_DOCUMENT_10                     0\n",
      "FLAG_DOCUMENT_11                     0\n",
      "FLAG_DOCUMENT_12                     0\n",
      "FLAG_DOCUMENT_13                     0\n",
      "FLAG_DOCUMENT_14                     0\n",
      "FLAG_DOCUMENT_15                     0\n",
      "FLAG_DOCUMENT_16                     0\n",
      "FLAG_DOCUMENT_17                     0\n",
      "FLAG_DOCUMENT_18                     0\n",
      "FLAG_DOCUMENT_19                     0\n",
      "FLAG_DOCUMENT_20                     0\n",
      "FLAG_DOCUMENT_21                     0\n",
      "AMT_REQ_CREDIT_BUREAU_HOUR       41519\n",
      "AMT_REQ_CREDIT_BUREAU_DAY        41519\n",
      "AMT_REQ_CREDIT_BUREAU_WEEK       41519\n",
      "AMT_REQ_CREDIT_BUREAU_MON        41519\n",
      "AMT_REQ_CREDIT_BUREAU_QRT        41519\n",
      "AMT_REQ_CREDIT_BUREAU_YEAR       41519\n",
      "dtype: int64\n"
     ]
    }
   ],
   "source": [
    "train = application_train.copy()\n",
    "print(train.isnull().sum())\n"
   ]
  },
  {
   "cell_type": "code",
   "execution_count": 86,
   "metadata": {},
   "outputs": [
    {
     "name": "stdout",
     "output_type": "stream",
     "text": [
      "(8602, 122)\n"
     ]
    }
   ],
   "source": [
    "#drop before label encoding\n",
    "train=train.dropna(how='any')\n",
    "train.corr()\n",
    "print(train.shape)"
   ]
  },
  {
   "cell_type": "code",
   "execution_count": 87,
   "metadata": {},
   "outputs": [],
   "source": [
    "train_labels = train.pop('TARGET')"
   ]
  },
  {
   "cell_type": "code",
   "execution_count": 88,
   "metadata": {},
   "outputs": [],
   "source": [
    "def encodeLabel(df):\n",
    "    label_encoder = LabelEncoder()\n",
    "    categorical_cols = df.select_dtypes(include=[\"object\"]).columns.tolist()\n",
    "    for col in categorical_cols:\n",
    "        df[col] = label_encoder.fit_transform(df[col])\n",
    "\n",
    "    return df"
   ]
  },
  {
   "cell_type": "code",
   "execution_count": 89,
   "metadata": {},
   "outputs": [],
   "source": [
    "train = encodeLabel(train)\n"
   ]
  },
  {
   "cell_type": "code",
   "execution_count": 90,
   "metadata": {},
   "outputs": [
    {
     "name": "stdout",
     "output_type": "stream",
     "text": [
      "SK_ID_CURR                      0\n",
      "NAME_CONTRACT_TYPE              0\n",
      "CODE_GENDER                     0\n",
      "FLAG_OWN_CAR                    0\n",
      "FLAG_OWN_REALTY                 0\n",
      "CNT_CHILDREN                    0\n",
      "AMT_INCOME_TOTAL                0\n",
      "AMT_CREDIT                      0\n",
      "AMT_ANNUITY                     0\n",
      "AMT_GOODS_PRICE                 0\n",
      "NAME_TYPE_SUITE                 0\n",
      "NAME_INCOME_TYPE                0\n",
      "NAME_EDUCATION_TYPE             0\n",
      "NAME_FAMILY_STATUS              0\n",
      "NAME_HOUSING_TYPE               0\n",
      "REGION_POPULATION_RELATIVE      0\n",
      "DAYS_BIRTH                      0\n",
      "DAYS_EMPLOYED                   0\n",
      "DAYS_REGISTRATION               0\n",
      "DAYS_ID_PUBLISH                 0\n",
      "OWN_CAR_AGE                     0\n",
      "FLAG_MOBIL                      0\n",
      "FLAG_EMP_PHONE                  0\n",
      "FLAG_WORK_PHONE                 0\n",
      "FLAG_CONT_MOBILE                0\n",
      "FLAG_PHONE                      0\n",
      "FLAG_EMAIL                      0\n",
      "OCCUPATION_TYPE                 0\n",
      "CNT_FAM_MEMBERS                 0\n",
      "REGION_RATING_CLIENT            0\n",
      "REGION_RATING_CLIENT_W_CITY     0\n",
      "WEEKDAY_APPR_PROCESS_START      0\n",
      "HOUR_APPR_PROCESS_START         0\n",
      "REG_REGION_NOT_LIVE_REGION      0\n",
      "REG_REGION_NOT_WORK_REGION      0\n",
      "LIVE_REGION_NOT_WORK_REGION     0\n",
      "REG_CITY_NOT_LIVE_CITY          0\n",
      "REG_CITY_NOT_WORK_CITY          0\n",
      "LIVE_CITY_NOT_WORK_CITY         0\n",
      "ORGANIZATION_TYPE               0\n",
      "EXT_SOURCE_1                    0\n",
      "EXT_SOURCE_2                    0\n",
      "EXT_SOURCE_3                    0\n",
      "APARTMENTS_AVG                  0\n",
      "BASEMENTAREA_AVG                0\n",
      "YEARS_BEGINEXPLUATATION_AVG     0\n",
      "YEARS_BUILD_AVG                 0\n",
      "COMMONAREA_AVG                  0\n",
      "ELEVATORS_AVG                   0\n",
      "ENTRANCES_AVG                   0\n",
      "FLOORSMAX_AVG                   0\n",
      "FLOORSMIN_AVG                   0\n",
      "LANDAREA_AVG                    0\n",
      "LIVINGAPARTMENTS_AVG            0\n",
      "LIVINGAREA_AVG                  0\n",
      "NONLIVINGAPARTMENTS_AVG         0\n",
      "NONLIVINGAREA_AVG               0\n",
      "APARTMENTS_MODE                 0\n",
      "BASEMENTAREA_MODE               0\n",
      "YEARS_BEGINEXPLUATATION_MODE    0\n",
      "YEARS_BUILD_MODE                0\n",
      "COMMONAREA_MODE                 0\n",
      "ELEVATORS_MODE                  0\n",
      "ENTRANCES_MODE                  0\n",
      "FLOORSMAX_MODE                  0\n",
      "FLOORSMIN_MODE                  0\n",
      "LANDAREA_MODE                   0\n",
      "LIVINGAPARTMENTS_MODE           0\n",
      "LIVINGAREA_MODE                 0\n",
      "NONLIVINGAPARTMENTS_MODE        0\n",
      "NONLIVINGAREA_MODE              0\n",
      "APARTMENTS_MEDI                 0\n",
      "BASEMENTAREA_MEDI               0\n",
      "YEARS_BEGINEXPLUATATION_MEDI    0\n",
      "YEARS_BUILD_MEDI                0\n",
      "COMMONAREA_MEDI                 0\n",
      "ELEVATORS_MEDI                  0\n",
      "ENTRANCES_MEDI                  0\n",
      "FLOORSMAX_MEDI                  0\n",
      "FLOORSMIN_MEDI                  0\n",
      "LANDAREA_MEDI                   0\n",
      "LIVINGAPARTMENTS_MEDI           0\n",
      "LIVINGAREA_MEDI                 0\n",
      "NONLIVINGAPARTMENTS_MEDI        0\n",
      "NONLIVINGAREA_MEDI              0\n",
      "FONDKAPREMONT_MODE              0\n",
      "HOUSETYPE_MODE                  0\n",
      "TOTALAREA_MODE                  0\n",
      "WALLSMATERIAL_MODE              0\n",
      "EMERGENCYSTATE_MODE             0\n",
      "OBS_30_CNT_SOCIAL_CIRCLE        0\n",
      "DEF_30_CNT_SOCIAL_CIRCLE        0\n",
      "OBS_60_CNT_SOCIAL_CIRCLE        0\n",
      "DEF_60_CNT_SOCIAL_CIRCLE        0\n",
      "DAYS_LAST_PHONE_CHANGE          0\n",
      "FLAG_DOCUMENT_2                 0\n",
      "FLAG_DOCUMENT_3                 0\n",
      "FLAG_DOCUMENT_4                 0\n",
      "FLAG_DOCUMENT_5                 0\n",
      "FLAG_DOCUMENT_6                 0\n",
      "FLAG_DOCUMENT_7                 0\n",
      "FLAG_DOCUMENT_8                 0\n",
      "FLAG_DOCUMENT_9                 0\n",
      "FLAG_DOCUMENT_10                0\n",
      "FLAG_DOCUMENT_11                0\n",
      "FLAG_DOCUMENT_12                0\n",
      "FLAG_DOCUMENT_13                0\n",
      "FLAG_DOCUMENT_14                0\n",
      "FLAG_DOCUMENT_15                0\n",
      "FLAG_DOCUMENT_16                0\n",
      "FLAG_DOCUMENT_17                0\n",
      "FLAG_DOCUMENT_18                0\n",
      "FLAG_DOCUMENT_19                0\n",
      "FLAG_DOCUMENT_20                0\n",
      "FLAG_DOCUMENT_21                0\n",
      "AMT_REQ_CREDIT_BUREAU_HOUR      0\n",
      "AMT_REQ_CREDIT_BUREAU_DAY       0\n",
      "AMT_REQ_CREDIT_BUREAU_WEEK      0\n",
      "AMT_REQ_CREDIT_BUREAU_MON       0\n",
      "AMT_REQ_CREDIT_BUREAU_QRT       0\n",
      "AMT_REQ_CREDIT_BUREAU_YEAR      0\n",
      "dtype: int64\n"
     ]
    }
   ],
   "source": [
    "print(train.isnull().sum())"
   ]
  },
  {
   "cell_type": "code",
   "execution_count": 91,
   "metadata": {},
   "outputs": [],
   "source": [
    "imputer = SimpleImputer(missing_values=np.nan,strategy='median')\n",
    "# imputer=IterativeImputer(verbose=2)\n",
    "scaler = MinMaxScaler(feature_range= (0,1))"
   ]
  },
  {
   "cell_type": "code",
   "execution_count": 92,
   "metadata": {},
   "outputs": [
    {
     "name": "stdout",
     "output_type": "stream",
     "text": [
      "(8602, 121)\n",
      "(8602,)\n"
     ]
    }
   ],
   "source": [
    "imputer.fit(train)\n",
    "train = imputer.transform(train)\n",
    "print(train.shape)\n",
    "print(train_labels.shape)"
   ]
  },
  {
   "cell_type": "code",
   "execution_count": 93,
   "metadata": {},
   "outputs": [],
   "source": [
    "X_train, X_test, y_train, y_test = train_test_split(train, train_labels, test_size=0.2, random_state=50)"
   ]
  },
  {
   "cell_type": "code",
   "execution_count": 94,
   "metadata": {},
   "outputs": [
    {
     "name": "stdout",
     "output_type": "stream",
     "text": [
      "[11:53:46] WARNING: C:/Users/Administrator/workspace/xgboost-win64_release_1.5.1/src/learner.cc:1115: Starting in XGBoost 1.3.0, the default evaluation metric used with the objective 'binary:logistic' was changed from 'error' to 'logloss'. Explicitly set eval_metric if you'd like to restore the old behavior.\n"
     ]
    },
    {
     "data": {
      "text/plain": [
       "XGBClassifier(base_score=0.5, booster='gbtree', colsample_bylevel=1,\n",
       "              colsample_bynode=1, colsample_bytree=1, enable_categorical=False,\n",
       "              gamma=0, gpu_id=-1, importance_type=None,\n",
       "              interaction_constraints='', learning_rate=0.300000012,\n",
       "              max_delta_step=0, max_depth=6, min_child_weight=1, missing=nan,\n",
       "              monotone_constraints='()', n_estimators=100, n_jobs=16,\n",
       "              num_parallel_tree=1, predictor='auto', random_state=0,\n",
       "              reg_alpha=0, reg_lambda=1, scale_pos_weight=1, subsample=1,\n",
       "              tree_method='exact', use_label_encoder=False,\n",
       "              validate_parameters=1, verbosity=None)"
      ]
     },
     "execution_count": 94,
     "metadata": {},
     "output_type": "execute_result"
    }
   ],
   "source": [
    "model=XGBClassifier(use_label_encoder=False)\n",
    "model.fit(X_train,y_train)"
   ]
  },
  {
   "cell_type": "code",
   "execution_count": 95,
   "metadata": {},
   "outputs": [],
   "source": [
    "# make predictions for test data\n",
    "y_pred = model.predict(X_test)\n",
    "predictions = [round(value) for value in y_pred]"
   ]
  },
  {
   "cell_type": "code",
   "execution_count": 96,
   "metadata": {},
   "outputs": [
    {
     "name": "stdout",
     "output_type": "stream",
     "text": [
      "Accuracy: 93.14%\n"
     ]
    }
   ],
   "source": [
    "accuracy = metrics.accuracy_score(y_test, predictions)\n",
    "print(\"Accuracy: %.2f%%\" % (accuracy * 100.0))"
   ]
  },
  {
   "cell_type": "code",
   "execution_count": 97,
   "metadata": {},
   "outputs": [
    {
     "name": "stdout",
     "output_type": "stream",
     "text": [
      "ROC AUC Score: 0.5073745837361693\n"
     ]
    }
   ],
   "source": [
    "print('ROC AUC Score: {}'.format(metrics.roc_auc_score(y_test,y_pred)))"
   ]
  },
  {
   "cell_type": "code",
   "execution_count": 98,
   "metadata": {},
   "outputs": [],
   "source": [
    "y_score = model.predict_proba(X_test)[:,1]"
   ]
  },
  {
   "cell_type": "code",
   "execution_count": 99,
   "metadata": {},
   "outputs": [],
   "source": [
    "false_positive_rate1, true_positive_rate1, threshold1 = roc_curve(y_test, y_score)"
   ]
  },
  {
   "cell_type": "code",
   "execution_count": 100,
   "metadata": {},
   "outputs": [
    {
     "name": "stdout",
     "output_type": "stream",
     "text": [
      "ROC AUC Score: 0.6955365775056396\n"
     ]
    }
   ],
   "source": [
    "print('ROC AUC Score: {}'.format(metrics.roc_auc_score(y_test,y_score)))"
   ]
  },
  {
   "cell_type": "code",
   "execution_count": 101,
   "metadata": {},
   "outputs": [
    {
     "data": {
      "image/png": "[encoded data removed]",
      "text/plain": [
       "<Figure size 720x720 with 1 Axes>"
      ]
     },
     "metadata": {
      "needs_background": "light"
     },
     "output_type": "display_data"
    }
   ],
   "source": [
    "plt.subplots(1, figsize=(10, 10))\n",
    "plt.title('Receiver Operating Characteristic - XGBoost')\n",
    "plt.plot(false_positive_rate1, true_positive_rate1)\n",
    "plt.plot([0, 1], ls=\"--\")\n",
    "plt.plot([0, 0], [1, 0], c=\".7\"), plt.plot([1, 1], c=\".7\")\n",
    "plt.ylabel('True Positive Rate')\n",
    "plt.xlabel('False Positive Rate')\n",
    "plt.show()"
   ]
  },
  {
   "cell_type": "code",
   "execution_count": 102,
   "metadata": {},
   "outputs": [
    {
     "name": "stdout",
     "output_type": "stream",
     "text": [
      "[[1601    4]\n",
      " [ 114    2]]\n"
     ]
    }
   ],
   "source": [
    "results = confusion_matrix(y_test,y_pred)\n",
    "print(results)"
   ]
  }
 ],
 "metadata": {
  "interpreter": {
   "hash": "ff2d46625ea916fde51e9a81ed1d28b84da8bbc6e0001ab0c9adeee327e4fc90"
  },
  "kernelspec": {
   "display_name": "Python 3.9.10 64-bit (windows store)",
   "language": "python",
   "name": "python3"
  },
  "language_info": {
   "codemirror_mode": {
    "name": "ipython",
    "version": 3
   },
   "file_extension": ".py",
   "mimetype": "text/x-python",
   "name": "python",
   "nbconvert_exporter": "python",
   "pygments_lexer": "ipython3",
   "version": "3.9.10"
  },
  "orig_nbformat": 4
 },
 "nbformat": 4,
 "nbformat_minor": 2
}
